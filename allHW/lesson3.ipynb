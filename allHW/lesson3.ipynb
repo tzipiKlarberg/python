{
 "cells": [
  {
   "cell_type": "code",
   "execution_count": null,
   "id": "69e2f492-368a-4549-b3f0-cd24fc564c50",
   "metadata": {},
   "outputs": [],
   "source": [
    "import numpy as np\n",
    "random_int_array = np.random.randint(1, 50, size=10)\n",
    "np.mean(random_int_array)"
   ]
  },
  {
   "cell_type": "code",
   "execution_count": null,
   "id": "5903e153-eede-4e95-b188-c7fcafbff02a",
   "metadata": {},
   "outputs": [],
   "source": [
    "two_dim = np.array([[4, 5, 6], [5, 6, 7]])\n",
    "two_dim2 = np.array([[78, 2, 6], [23, 56, 7]])\n",
    "two_dim_1_2 = np.add(two_dim, two_dim2)\n",
    "avg = np.mean(two_dim_1_2)\n",
    "avg"
   ]
  },
  {
   "cell_type": "code",
   "execution_count": null,
   "id": "d7a4a3f6-8348-47a5-9c53-85382a131259",
   "metadata": {},
   "outputs": [],
   "source": [
    "random_int_array = np.random.randint(1, 100, size=20)\n",
    "condition = random_int_array > 50\n",
    "random_int_array_sort = random_int_array[condition]\n",
    "random_int_array_sort"
   ]
  },
  {
   "cell_type": "code",
   "execution_count": null,
   "id": "e9ee3488-7247-4356-ad7c-ca3d0b0d5509",
   "metadata": {},
   "outputs": [],
   "source": []
  },
  {
   "cell_type": "code",
   "execution_count": null,
   "id": "5eb59219-60a1-4812-9708-925af7829406",
   "metadata": {},
   "outputs": [],
   "source": []
  }
 ],
 "metadata": {
  "kernelspec": {
   "display_name": "Python 3 (ipykernel)",
   "language": "python",
   "name": "python3"
  },
  "language_info": {
   "codemirror_mode": {
    "name": "ipython",
    "version": 3
   },
   "file_extension": ".py",
   "mimetype": "text/x-python",
   "name": "python",
   "nbconvert_exporter": "python",
   "pygments_lexer": "ipython3",
   "version": "3.10.8"
  }
 },
 "nbformat": 4,
 "nbformat_minor": 5
}
